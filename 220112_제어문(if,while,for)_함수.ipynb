{
  "nbformat": 4,
  "nbformat_minor": 0,
  "metadata": {
    "colab": {
      "name": "220112_제어문(if,while,for)/함수.ipynb",
      "provenance": [],
      "collapsed_sections": [],
      "authorship_tag": "ABX9TyNW4rVsO3wuq7HrNOeLwvaw",
      "include_colab_link": true
    },
    "kernelspec": {
      "name": "python3",
      "display_name": "Python 3"
    },
    "language_info": {
      "name": "python"
    }
  },
  "cells": [
    {
      "cell_type": "markdown",
      "metadata": {
        "id": "view-in-github",
        "colab_type": "text"
      },
      "source": [
        "<a href=\"https://colab.research.google.com/github/JeongEun-Hwang/22.01.12-OPR_-if-while-for-/blob/master/220112_%EC%A0%9C%EC%96%B4%EB%AC%B8(if%2Cwhile%2Cfor)_%ED%95%A8%EC%88%98.ipynb\" target=\"_parent\"><img src=\"https://colab.research.google.com/assets/colab-badge.svg\" alt=\"Open In Colab\"/></a>"
      ]
    },
    {
      "cell_type": "markdown",
      "source": [
        "#제어문\n",
        "-> branch 할수 있게 해주는 것= if문\n"
      ],
      "metadata": {
        "id": "2dhCJHj-1-z5"
      }
    },
    {
      "cell_type": "markdown",
      "source": [
        "## if-(elif) else 문"
      ],
      "metadata": {
        "id": "7bztKyGEDtqe"
      }
    },
    {
      "cell_type": "code",
      "execution_count": null,
      "metadata": {
        "id": "za_a90hXoXF3"
      },
      "outputs": [],
      "source": [
        "if 조건문:\n",
        "   실행문...\n",
        "\n",
        "   else:\n",
        "     실행문...."
      ]
    },
    {
      "cell_type": "code",
      "source": [
        "isOverweight = False\n",
        "#isOverweight = True\n",
        "\n",
        "if isOverweight:\n",
        "  print('다이어트')\n",
        "\n",
        "else:\n",
        "  print('마음껏 드세요!') "
      ],
      "metadata": {
        "colab": {
          "base_uri": "https://localhost:8080/"
        },
        "id": "Yp0mvYVs21CM",
        "outputId": "1add5509-f4fa-45cc-ee40-d46e3c1c612a"
      },
      "execution_count": 5,
      "outputs": [
        {
          "output_type": "stream",
          "name": "stdout",
          "text": [
            "마음껏 드세요!\n"
          ]
        }
      ]
    },
    {
      "cell_type": "code",
      "source": [
        "#isOverweight = False\n",
        "isOverweight = True\n",
        "\n",
        "\n",
        "if isOverweight:\n",
        "  print('다이어트')\n",
        "  print('운동도 해라')\n",
        "  \n",
        "else:\n",
        "  print('마음껏 드세요!') "
      ],
      "metadata": {
        "colab": {
          "base_uri": "https://localhost:8080/"
        },
        "id": "TqKPd_0_3S0b",
        "outputId": "70e10fb6-6047-41a7-f677-86f95873ae75"
      },
      "execution_count": 6,
      "outputs": [
        {
          "output_type": "stream",
          "name": "stdout",
          "text": [
            "다이어트\n",
            "운동도 해라\n"
          ]
        }
      ]
    },
    {
      "cell_type": "markdown",
      "source": [
        "주의할 점 : 구문에서 (if,else 문 아래의 ex print 의)들여쓰기에 신경써야 한다. \n",
        "\n",
        "{ } =. python 딕셔너리랑 집합에서만 사용한다. "
      ],
      "metadata": {
        "id": "X1tq9HFP4MtM"
      }
    },
    {
      "cell_type": "code",
      "source": [
        "x =3\n",
        "y = 2\n",
        "\n",
        "x >y\n",
        "#x < y\n",
        "#x != y"
      ],
      "metadata": {
        "colab": {
          "base_uri": "https://localhost:8080/"
        },
        "id": "wbvxtlcd4C-J",
        "outputId": "0d020253-073f-4a42-c622-d7b18d9f7e21"
      },
      "execution_count": 7,
      "outputs": [
        {
          "output_type": "execute_result",
          "data": {
            "text/plain": [
              "True"
            ]
          },
          "metadata": {},
          "execution_count": 7
        }
      ]
    },
    {
      "cell_type": "code",
      "source": [
        "#조건문 사용 2\n",
        "\n",
        "weight = 70\n",
        "\n",
        "if weight>80:\n",
        "  print('다이어트')\n",
        "  print('운동도 해라')\n",
        "  \n",
        "else:\n",
        "  print('마음껏 드세요!') "
      ],
      "metadata": {
        "colab": {
          "base_uri": "https://localhost:8080/"
        },
        "id": "I78Fxv2q4DI0",
        "outputId": "a08837da-c981-4fe4-e21e-dc1f2e5e857c"
      },
      "execution_count": 9,
      "outputs": [
        {
          "output_type": "stream",
          "name": "stdout",
          "text": [
            "마음껏 드세요!\n"
          ]
        }
      ]
    },
    {
      "cell_type": "code",
      "source": [
        "#조건문 사용 3\n",
        "#isOverweight = False\n",
        "#isOverweight = True\n",
        "weight = 70\n",
        "hasDiease = True\n",
        "\n",
        "if weight>80 or hasDiease:      # 두 조건문 weight>80 or hasDiease 중 하나가 참이라면\n",
        "  print('다이어트')\n",
        "  print('운동도 해라')\n",
        "  \n",
        "else:                           # 둘다 false 라면 출력\n",
        "  print('마음껏 드세요!') \n"
      ],
      "metadata": {
        "colab": {
          "base_uri": "https://localhost:8080/"
        },
        "id": "H25fEp8b5Ris",
        "outputId": "512e5675-1b83-40ff-eb7c-8ce92393f7ba"
      },
      "execution_count": 10,
      "outputs": [
        {
          "output_type": "stream",
          "name": "stdout",
          "text": [
            "다이어트\n",
            "운동도 해라\n"
          ]
        }
      ]
    },
    {
      "cell_type": "code",
      "source": [
        "#조건문 사용 4 . \n",
        "weight = 70\n",
        "hasDiease = True\n",
        "\n",
        "if weight>80 and hasDiease:      # 두 조건문 weight>80 or hasDiease 둘다 만족해야지 아래 if문 실행\n",
        "  print('다이어트')\n",
        "  print('운동도 해라')\n",
        "  \n",
        "else:                           # 둘다 false 라면 출력\n",
        "  print('마음껏 드세요!') \n"
      ],
      "metadata": {
        "colab": {
          "base_uri": "https://localhost:8080/"
        },
        "id": "BueEjQw_4DNv",
        "outputId": "bfff620b-24b9-4727-d2ee-3a68c3ae6c70"
      },
      "execution_count": 11,
      "outputs": [
        {
          "output_type": "stream",
          "name": "stdout",
          "text": [
            "마음껏 드세요!\n"
          ]
        }
      ]
    },
    {
      "cell_type": "markdown",
      "source": [
        "-> and 문에서는 확률상 거짓으로 나올 확률이 높은 조건문을 앞에다 배치 또는 복잡한 조건문을 뒤에 배치하는 것이 효율적이다. "
      ],
      "metadata": {
        "id": "zE-fwsBg7EW4"
      }
    },
    {
      "cell_type": "code",
      "source": [
        "#내스스로 실습하는거 \n",
        "weight = input(\"weight : \")\n",
        "hasDiease = True\n",
        "\n",
        "if weight>80 or hasDiease:      # 두 조건문 weight>80 or hasDiease 둘다 만족해야지 아래 if문 실행\n",
        "  print('다이어트')\n",
        "  print('운동도 해라')\n",
        "  \n",
        "else:                           # 둘다 false 라면 출력\n",
        "  print('마음껏 드세요!')"
      ],
      "metadata": {
        "colab": {
          "base_uri": "https://localhost:8080/",
          "height": 262
        },
        "id": "xZCVzXrY4DSd",
        "outputId": "6f8a05e8-b346-452b-80b1-c5d8fa8d8a87"
      },
      "execution_count": 22,
      "outputs": [
        {
          "name": "stdout",
          "output_type": "stream",
          "text": [
            "weight : 60\n"
          ]
        },
        {
          "output_type": "error",
          "ename": "TypeError",
          "evalue": "ignored",
          "traceback": [
            "\u001b[0;31m---------------------------------------------------------------------------\u001b[0m",
            "\u001b[0;31mTypeError\u001b[0m                                 Traceback (most recent call last)",
            "\u001b[0;32m<ipython-input-22-a70f76b1f5c2>\u001b[0m in \u001b[0;36m<module>\u001b[0;34m()\u001b[0m\n\u001b[1;32m      3\u001b[0m \u001b[0mhasDiease\u001b[0m \u001b[0;34m=\u001b[0m \u001b[0;32mTrue\u001b[0m\u001b[0;34m\u001b[0m\u001b[0;34m\u001b[0m\u001b[0m\n\u001b[1;32m      4\u001b[0m \u001b[0;34m\u001b[0m\u001b[0m\n\u001b[0;32m----> 5\u001b[0;31m \u001b[0;32mif\u001b[0m \u001b[0mweight\u001b[0m\u001b[0;34m>\u001b[0m\u001b[0;36m80\u001b[0m \u001b[0;32mor\u001b[0m \u001b[0mhasDiease\u001b[0m\u001b[0;34m:\u001b[0m      \u001b[0;31m# 두 조건문 weight>80 or hasDiease 둘다 만족해야지 아래 if문 실행\u001b[0m\u001b[0;34m\u001b[0m\u001b[0;34m\u001b[0m\u001b[0m\n\u001b[0m\u001b[1;32m      6\u001b[0m   \u001b[0mprint\u001b[0m\u001b[0;34m(\u001b[0m\u001b[0;34m'다이어트'\u001b[0m\u001b[0;34m)\u001b[0m\u001b[0;34m\u001b[0m\u001b[0;34m\u001b[0m\u001b[0m\n\u001b[1;32m      7\u001b[0m   \u001b[0mprint\u001b[0m\u001b[0;34m(\u001b[0m\u001b[0;34m'운동도 해라'\u001b[0m\u001b[0;34m)\u001b[0m\u001b[0;34m\u001b[0m\u001b[0;34m\u001b[0m\u001b[0m\n",
            "\u001b[0;31mTypeError\u001b[0m: '>' not supported between instances of 'str' and 'int'"
          ]
        }
      ]
    },
    {
      "cell_type": "code",
      "source": [
        "1 in [1,2,3]"
      ],
      "metadata": {
        "colab": {
          "base_uri": "https://localhost:8080/"
        },
        "id": "nTI_63Wc4DXG",
        "outputId": "35e49d0f-273d-459f-ebdf-ca30ecbaccad"
      },
      "execution_count": 12,
      "outputs": [
        {
          "output_type": "execute_result",
          "data": {
            "text/plain": [
              "True"
            ]
          },
          "metadata": {},
          "execution_count": 12
        }
      ]
    },
    {
      "cell_type": "code",
      "source": [
        "1 not in [1,2,3]"
      ],
      "metadata": {
        "colab": {
          "base_uri": "https://localhost:8080/"
        },
        "id": "L0ky-oJp4Dbe",
        "outputId": "ea020faf-7ee4-419c-8b5f-59b398697c17"
      },
      "execution_count": 13,
      "outputs": [
        {
          "output_type": "execute_result",
          "data": {
            "text/plain": [
              "False"
            ]
          },
          "metadata": {},
          "execution_count": 13
        }
      ]
    },
    {
      "cell_type": "code",
      "source": [
        "'a' in ('a','b','c')"
      ],
      "metadata": {
        "colab": {
          "base_uri": "https://localhost:8080/"
        },
        "id": "8FZ218sM4DfK",
        "outputId": "f6f68854-503c-4e64-e0a1-17401c1a6c6a"
      },
      "execution_count": 14,
      "outputs": [
        {
          "output_type": "execute_result",
          "data": {
            "text/plain": [
              "True"
            ]
          },
          "metadata": {},
          "execution_count": 14
        }
      ]
    },
    {
      "cell_type": "code",
      "source": [
        "'j' in 'Python'"
      ],
      "metadata": {
        "colab": {
          "base_uri": "https://localhost:8080/"
        },
        "id": "CSera3jR4DjM",
        "outputId": "835e5718-88f2-4e3d-dd7b-19e04a852faa"
      },
      "execution_count": 15,
      "outputs": [
        {
          "output_type": "execute_result",
          "data": {
            "text/plain": [
              "False"
            ]
          },
          "metadata": {},
          "execution_count": 15
        }
      ]
    },
    {
      "cell_type": "code",
      "source": [
        "#if 조건문 만족시 아무것도 안한다(지나간다) 주로 개발 중에 사용 되기도 한다. \n",
        "weight = 70\n",
        "hasDiease = True\n",
        "\n",
        "if weight>80 or hasDiease:      # 두 조건문 weight>80 or hasDiease 둘다 만족해야지 아래 if문 실행\n",
        "  #print('다이어트')\n",
        "  #print('운동도 해라')\n",
        "  pass\n",
        "\n",
        "else:                           # 둘다 false 라면 출력\n",
        "  print('마음껏 드세요!')"
      ],
      "metadata": {
        "id": "3OYfPBAY4Dna"
      },
      "execution_count": 17,
      "outputs": []
    },
    {
      "cell_type": "code",
      "source": [
        "#elif문 _여러가지 조건문을 추가하고 싶은 경우 , 여러 elif 조건문을 사용해도 된다. 기본적으로 많이 사용하면 복잡해져서 좋지 않다. \n",
        "#코드를 구성할때 먼저 확인해야 하는 조건문을 먼저 두는 것이 중요하다. \n",
        "weight = 70\n",
        "hasDiease = True\n",
        "\n",
        "if weight>80:      # 두 조건문 weight>80 or hasDiease 둘다 만족해야지 아래 if문 실행\n",
        "  print('다이어트')\n",
        "  print('운동도 해라')\n",
        "  \n",
        "elif hasDiease:\n",
        "  print('의사와 상담하세요.')\n",
        "\n",
        "else:                           # 둘다 false 라면 출력\n",
        "  print('마음껏 드세요!')"
      ],
      "metadata": {
        "colab": {
          "base_uri": "https://localhost:8080/"
        },
        "id": "r4Vyj1BG4DrG",
        "outputId": "6f1d0bef-c22b-4532-e01d-77ba0b6daa03"
      },
      "execution_count": 19,
      "outputs": [
        {
          "output_type": "stream",
          "name": "stdout",
          "text": [
            "의사와 상담하세요.\n"
          ]
        }
      ]
    },
    {
      "cell_type": "markdown",
      "source": [
        "elif문 _여러가지 조건문을 추가하고 싶은 경우 사용한다. \n",
        "\n",
        "1.   여러 elif 조건문을 사용해도 된다. 기본적으로 많이 사용하면 복잡해져서 좋지 않다. \n",
        "\n",
        "2. 코드를 구성할때 먼저 확인해야 하는 조건문을 먼저 두는 것이 중요하다. \n",
        "\n",
        "\n",
        "\n",
        " "
      ],
      "metadata": {
        "id": "opjLErwK9SiE"
      }
    },
    {
      "cell_type": "code",
      "source": [
        "#한줄로 작성하면 가독성이 떨어져서 추천하지는 않는다. \n",
        "주머니 = ['현금', '신용카드','신분증']\n",
        "\n",
        "  if '현금' in 주머니 : pass\n",
        "  else print('주머니에 뭐있나요?')"
      ],
      "metadata": {
        "colab": {
          "base_uri": "https://localhost:8080/",
          "height": 136
        },
        "id": "kyj76P4C8zwa",
        "outputId": "282bf9d5-4f48-4edb-d2d6-bd84453c7c64"
      },
      "execution_count": 26,
      "outputs": [
        {
          "output_type": "error",
          "ename": "IndentationError",
          "evalue": "ignored",
          "traceback": [
            "\u001b[0;36m  File \u001b[0;32m\"<ipython-input-26-562396607550>\"\u001b[0;36m, line \u001b[0;32m4\u001b[0m\n\u001b[0;31m    if '현금' in 주머니 : pass\u001b[0m\n\u001b[0m    ^\u001b[0m\n\u001b[0;31mIndentationError\u001b[0m\u001b[0;31m:\u001b[0m unexpected indent\n"
          ]
        }
      ]
    },
    {
      "cell_type": "code",
      "source": [
        "score = 80\n",
        "\n",
        "result = 'pass' if score >= 80 else 'fail'\n",
        "\n",
        "print(result)"
      ],
      "metadata": {
        "colab": {
          "base_uri": "https://localhost:8080/"
        },
        "id": "HQyCiuKD-li9",
        "outputId": "1f3cc650-815d-438d-8b78-acd17f560715"
      },
      "execution_count": 25,
      "outputs": [
        {
          "output_type": "stream",
          "name": "stdout",
          "text": [
            "pass\n"
          ]
        }
      ]
    },
    {
      "cell_type": "markdown",
      "source": [
        "### if 문 예제"
      ],
      "metadata": {
        "id": "HzO67kVKCx8W"
      }
    },
    {
      "cell_type": "code",
      "source": [
        "print (3 == 5)"
      ],
      "metadata": {
        "colab": {
          "base_uri": "https://localhost:8080/"
        },
        "id": "awrQkhHS-8s3",
        "outputId": "1b93c458-7f47-4c03-e992-27606585d1e5"
      },
      "execution_count": 27,
      "outputs": [
        {
          "output_type": "stream",
          "name": "stdout",
          "text": [
            "False\n"
          ]
        }
      ]
    },
    {
      "cell_type": "code",
      "source": [
        "x=3\n",
        "\n",
        "print (1<x<5)"
      ],
      "metadata": {
        "colab": {
          "base_uri": "https://localhost:8080/"
        },
        "id": "13mWXqlrCd3z",
        "outputId": "4b06843d-9f9f-42fe-a609-5049f10a0876"
      },
      "execution_count": 28,
      "outputs": [
        {
          "output_type": "stream",
          "name": "stdout",
          "text": [
            "True\n"
          ]
        }
      ]
    },
    {
      "cell_type": "code",
      "source": [
        "print(3 ==3) and (4 != 3)"
      ],
      "metadata": {
        "colab": {
          "base_uri": "https://localhost:8080/"
        },
        "id": "RyF_S-P5Cppd",
        "outputId": "44bc92c0-0f09-440c-aa38-9e5fb917265e"
      },
      "execution_count": 30,
      "outputs": [
        {
          "output_type": "stream",
          "name": "stdout",
          "text": [
            "True\n"
          ]
        }
      ]
    },
    {
      "cell_type": "code",
      "source": [
        "print(3 >=4)"
      ],
      "metadata": {
        "colab": {
          "base_uri": "https://localhost:8080/"
        },
        "id": "RNdOYKEWC9LZ",
        "outputId": "14890efb-88d3-40b5-cb24-614a6abdb33a"
      },
      "execution_count": 32,
      "outputs": [
        {
          "output_type": "stream",
          "name": "stdout",
          "text": [
            "False\n"
          ]
        }
      ]
    },
    {
      "cell_type": "code",
      "source": [
        "if 4<3:\n",
        "  print ('Hi--')"
      ],
      "metadata": {
        "id": "7YNwV7S5DNW-"
      },
      "execution_count": 35,
      "outputs": []
    },
    {
      "cell_type": "code",
      "source": [
        "if 4<3:\n",
        "  print ('Hi--')\n",
        "\n",
        "else:\n",
        "  print('goodbye')"
      ],
      "metadata": {
        "colab": {
          "base_uri": "https://localhost:8080/"
        },
        "id": "c3_WXwooDjcT",
        "outputId": "c6f21a6c-edaf-440e-a19f-4341e9d36f99"
      },
      "execution_count": 36,
      "outputs": [
        {
          "output_type": "stream",
          "name": "stdout",
          "text": [
            "goodbye\n"
          ]
        }
      ]
    },
    {
      "cell_type": "code",
      "source": [
        "if True:\n",
        "  print ('1')\n",
        "\n",
        "else:\n",
        "  print('2')\n",
        "\n",
        "print('3')"
      ],
      "metadata": {
        "colab": {
          "base_uri": "https://localhost:8080/"
        },
        "id": "NjlmjMGZD9YM",
        "outputId": "ad42e3e1-8eba-4c33-ad93-5e32560f6d15"
      },
      "execution_count": 38,
      "outputs": [
        {
          "output_type": "stream",
          "name": "stdout",
          "text": [
            "1\n",
            "3\n"
          ]
        }
      ]
    },
    {
      "cell_type": "markdown",
      "source": [
        "맨 아래 print('3')은 조건을 벗어난/ 관계가 없는  print문이된다.\n",
        "-> 들여쓰기로 if 문에 들어갔는지 안들어 갔는지 구분한다. "
      ],
      "metadata": {
        "id": "5n0ZYHGDEO0P"
      }
    },
    {
      "cell_type": "code",
      "source": [
        "if True:\n",
        "  if False:\n",
        "    print(1)\n",
        "  else:\n",
        "    print(2)\n",
        "\n",
        "else:\n",
        "    print(3)\n",
        "\n",
        "print(4)"
      ],
      "metadata": {
        "colab": {
          "base_uri": "https://localhost:8080/"
        },
        "id": "PirD2EznEGgt",
        "outputId": "8377dc41-0967-4fa7-fc24-a6df3148e7db"
      },
      "execution_count": 42,
      "outputs": [
        {
          "output_type": "stream",
          "name": "stdout",
          "text": [
            "2\n",
            "4\n"
          ]
        }
      ]
    },
    {
      "cell_type": "markdown",
      "source": [
        "if True 문 안의 값은(if False 기 때문에 else 문 값인 2) 그 안의 if문의 값이 나오게 되고 print (4)는 if 문을 벗어난 값이기 때문에 2와 4가 출력된다. "
      ],
      "metadata": {
        "id": "qwL5hAGOFEps"
      }
    },
    {
      "cell_type": "markdown",
      "source": [
        "##while 문\n",
        "조건문이 참인동안 실행문을 계속 실행하다가, 조건문이 False 면 그만둔다. \n",
        "-무한반복문이라고 부른다. "
      ],
      "metadata": {
        "id": "UIIUyn34FetY"
      }
    },
    {
      "cell_type": "code",
      "source": [
        "while 조건문:\n",
        "  \n",
        "  실행문...."
      ],
      "metadata": {
        "id": "Q6fMh-VOEsHc"
      },
      "execution_count": null,
      "outputs": []
    },
    {
      "cell_type": "code",
      "source": [
        "tryCnt =0\n",
        "\n",
        "while tryCnt <10:     # tryCnt가 10을 넘어갈때까지 tryCnt에 1씩 더해준다. \n",
        "  tryCnt +=1\n",
        "  print (f'{tryCnt}번 노력했습니다.')\n",
        "  if  tryCnt >= 10:   #tryCnt가 10 이상이 되면 출력한다. \n",
        "    print('나무가 넘어간다...')"
      ],
      "metadata": {
        "colab": {
          "base_uri": "https://localhost:8080/"
        },
        "id": "wL-yRPNnGHgH",
        "outputId": "cc3f8c02-d6e2-4c00-af4c-5987773c4273"
      },
      "execution_count": 43,
      "outputs": [
        {
          "output_type": "stream",
          "name": "stdout",
          "text": [
            "1번 노력했습니다.\n",
            "2번 노력했습니다.\n",
            "3번 노력했습니다.\n",
            "4번 노력했습니다.\n",
            "5번 노력했습니다.\n",
            "6번 노력했습니다.\n",
            "7번 노력했습니다.\n",
            "8번 노력했습니다.\n",
            "9번 노력했습니다.\n",
            "10번 노력했습니다.\n",
            "나무가 넘어간다...\n"
          ]
        }
      ]
    },
    {
      "cell_type": "code",
      "source": [
        "prompt = \"\"\"\n",
        "  1. 추가\n",
        "  2. 삭제\n",
        "  3. 보기\n",
        "  4. 그만두기\n",
        "   번호를 입력하세요\n",
        "\"\"\"\n",
        "\n",
        "num =0    \n",
        "\n",
        "while num != 4:     # 입력한 숫자가 4가 아닐때 아래 반복문을 계속 출력한다. \n",
        "# print(prompt)\n",
        "  num = int(input(prompt))    #input() 입력 \n",
        "\n",
        "  print (f'선택한 번호 :{num}')"
      ],
      "metadata": {
        "colab": {
          "base_uri": "https://localhost:8080/"
        },
        "id": "a8BFfzMTJiBx",
        "outputId": "1e6590ea-e618-42ca-8878-90fc422c0117"
      },
      "execution_count": 56,
      "outputs": [
        {
          "output_type": "stream",
          "name": "stdout",
          "text": [
            "\n",
            "  1. 추가\n",
            "  2. 삭제\n",
            "  3. 보기\n",
            "  4. 그만두기\n",
            "   번호를 입력하세요\n",
            "4\n",
            "선택한 번호 :4\n"
          ]
        }
      ]
    },
    {
      "cell_type": "code",
      "source": [
        "prompt = \"\"\"\n",
        "  1. 추가\n",
        "  2. 삭제\n",
        "  3. 보기\n",
        "  4. 그만두기\n",
        "   번호를 입력하세요\n",
        "\"\"\"\n",
        "\n",
        "num =0    #써도 되고 안써도 된다. \n",
        "\n",
        "while num != 4:     # 입력한 숫자가 4가 아닐때 아래 반복문을 계속 출력한다. \n",
        "#  print(prompt)\n",
        "  num = int(input(prompt))    #input() 입력 \n",
        "  #num = int(input('1~4번 중 하나를 입력하세요. : ' ))  #input() 입력 \n",
        "  print (f'선택한 번호 :{num}')"
      ],
      "metadata": {
        "colab": {
          "base_uri": "https://localhost:8080/",
          "height": 684
        },
        "id": "8pk9cY6LGHjd",
        "outputId": "4115bd50-20a5-42bb-b7a9-ceaca754b0c0"
      },
      "execution_count": 55,
      "outputs": [
        {
          "output_type": "stream",
          "name": "stdout",
          "text": [
            "\n",
            "  1. 추가\n",
            "  2. 삭제\n",
            "  3. 보기\n",
            "  4. 그만두기\n",
            "   번호를 입력하세요\n",
            "\n"
          ]
        },
        {
          "output_type": "error",
          "ename": "KeyboardInterrupt",
          "evalue": "ignored",
          "traceback": [
            "\u001b[0;31m---------------------------------------------------------------------------\u001b[0m",
            "\u001b[0;31mKeyboardInterrupt\u001b[0m                         Traceback (most recent call last)",
            "\u001b[0;32m/usr/local/lib/python3.7/dist-packages/ipykernel/kernelbase.py\u001b[0m in \u001b[0;36m_input_request\u001b[0;34m(self, prompt, ident, parent, password)\u001b[0m\n\u001b[1;32m    728\u001b[0m             \u001b[0;32mtry\u001b[0m\u001b[0;34m:\u001b[0m\u001b[0;34m\u001b[0m\u001b[0;34m\u001b[0m\u001b[0m\n\u001b[0;32m--> 729\u001b[0;31m                 \u001b[0mident\u001b[0m\u001b[0;34m,\u001b[0m \u001b[0mreply\u001b[0m \u001b[0;34m=\u001b[0m \u001b[0mself\u001b[0m\u001b[0;34m.\u001b[0m\u001b[0msession\u001b[0m\u001b[0;34m.\u001b[0m\u001b[0mrecv\u001b[0m\u001b[0;34m(\u001b[0m\u001b[0mself\u001b[0m\u001b[0;34m.\u001b[0m\u001b[0mstdin_socket\u001b[0m\u001b[0;34m,\u001b[0m \u001b[0;36m0\u001b[0m\u001b[0;34m)\u001b[0m\u001b[0;34m\u001b[0m\u001b[0;34m\u001b[0m\u001b[0m\n\u001b[0m\u001b[1;32m    730\u001b[0m             \u001b[0;32mexcept\u001b[0m \u001b[0mException\u001b[0m\u001b[0;34m:\u001b[0m\u001b[0;34m\u001b[0m\u001b[0;34m\u001b[0m\u001b[0m\n",
            "\u001b[0;32m/usr/local/lib/python3.7/dist-packages/jupyter_client/session.py\u001b[0m in \u001b[0;36mrecv\u001b[0;34m(self, socket, mode, content, copy)\u001b[0m\n\u001b[1;32m    802\u001b[0m         \u001b[0;32mtry\u001b[0m\u001b[0;34m:\u001b[0m\u001b[0;34m\u001b[0m\u001b[0;34m\u001b[0m\u001b[0m\n\u001b[0;32m--> 803\u001b[0;31m             \u001b[0mmsg_list\u001b[0m \u001b[0;34m=\u001b[0m \u001b[0msocket\u001b[0m\u001b[0;34m.\u001b[0m\u001b[0mrecv_multipart\u001b[0m\u001b[0;34m(\u001b[0m\u001b[0mmode\u001b[0m\u001b[0;34m,\u001b[0m \u001b[0mcopy\u001b[0m\u001b[0;34m=\u001b[0m\u001b[0mcopy\u001b[0m\u001b[0;34m)\u001b[0m\u001b[0;34m\u001b[0m\u001b[0;34m\u001b[0m\u001b[0m\n\u001b[0m\u001b[1;32m    804\u001b[0m         \u001b[0;32mexcept\u001b[0m \u001b[0mzmq\u001b[0m\u001b[0;34m.\u001b[0m\u001b[0mZMQError\u001b[0m \u001b[0;32mas\u001b[0m \u001b[0me\u001b[0m\u001b[0;34m:\u001b[0m\u001b[0;34m\u001b[0m\u001b[0;34m\u001b[0m\u001b[0m\n",
            "\u001b[0;32m/usr/local/lib/python3.7/dist-packages/zmq/sugar/socket.py\u001b[0m in \u001b[0;36mrecv_multipart\u001b[0;34m(self, flags, copy, track)\u001b[0m\n\u001b[1;32m    624\u001b[0m         \"\"\"\n\u001b[0;32m--> 625\u001b[0;31m         \u001b[0mparts\u001b[0m \u001b[0;34m=\u001b[0m \u001b[0;34m[\u001b[0m\u001b[0mself\u001b[0m\u001b[0;34m.\u001b[0m\u001b[0mrecv\u001b[0m\u001b[0;34m(\u001b[0m\u001b[0mflags\u001b[0m\u001b[0;34m,\u001b[0m \u001b[0mcopy\u001b[0m\u001b[0;34m=\u001b[0m\u001b[0mcopy\u001b[0m\u001b[0;34m,\u001b[0m \u001b[0mtrack\u001b[0m\u001b[0;34m=\u001b[0m\u001b[0mtrack\u001b[0m\u001b[0;34m)\u001b[0m\u001b[0;34m]\u001b[0m\u001b[0;34m\u001b[0m\u001b[0;34m\u001b[0m\u001b[0m\n\u001b[0m\u001b[1;32m    626\u001b[0m         \u001b[0;31m# have first part already, only loop while more to receive\u001b[0m\u001b[0;34m\u001b[0m\u001b[0;34m\u001b[0m\u001b[0;34m\u001b[0m\u001b[0m\n",
            "\u001b[0;32mzmq/backend/cython/socket.pyx\u001b[0m in \u001b[0;36mzmq.backend.cython.socket.Socket.recv\u001b[0;34m()\u001b[0m\n",
            "\u001b[0;32mzmq/backend/cython/socket.pyx\u001b[0m in \u001b[0;36mzmq.backend.cython.socket.Socket.recv\u001b[0;34m()\u001b[0m\n",
            "\u001b[0;32mzmq/backend/cython/socket.pyx\u001b[0m in \u001b[0;36mzmq.backend.cython.socket._recv_copy\u001b[0;34m()\u001b[0m\n",
            "\u001b[0;32m/usr/local/lib/python3.7/dist-packages/zmq/backend/cython/checkrc.pxd\u001b[0m in \u001b[0;36mzmq.backend.cython.checkrc._check_rc\u001b[0;34m()\u001b[0m\n",
            "\u001b[0;31mKeyboardInterrupt\u001b[0m: ",
            "\nDuring handling of the above exception, another exception occurred:\n",
            "\u001b[0;31mKeyboardInterrupt\u001b[0m                         Traceback (most recent call last)",
            "\u001b[0;32m<ipython-input-55-a1fdb6416364>\u001b[0m in \u001b[0;36m<module>\u001b[0;34m()\u001b[0m\n\u001b[1;32m     11\u001b[0m \u001b[0;32mwhile\u001b[0m \u001b[0mnum\u001b[0m \u001b[0;34m!=\u001b[0m \u001b[0;36m4\u001b[0m\u001b[0;34m:\u001b[0m     \u001b[0;31m# 입력한 숫자가 4가 아닐때 아래 반복문을 계속 출력한다.\u001b[0m\u001b[0;34m\u001b[0m\u001b[0;34m\u001b[0m\u001b[0m\n\u001b[1;32m     12\u001b[0m   \u001b[0mprint\u001b[0m\u001b[0;34m(\u001b[0m\u001b[0mprompt\u001b[0m\u001b[0;34m)\u001b[0m\u001b[0;34m\u001b[0m\u001b[0;34m\u001b[0m\u001b[0m\n\u001b[0;32m---> 13\u001b[0;31m   \u001b[0mnum\u001b[0m \u001b[0;34m=\u001b[0m \u001b[0mint\u001b[0m\u001b[0;34m(\u001b[0m\u001b[0minput\u001b[0m\u001b[0;34m(\u001b[0m\u001b[0mprompt\u001b[0m\u001b[0;34m)\u001b[0m\u001b[0;34m)\u001b[0m    \u001b[0;31m#input() 입력\u001b[0m\u001b[0;34m\u001b[0m\u001b[0;34m\u001b[0m\u001b[0m\n\u001b[0m\u001b[1;32m     14\u001b[0m   \u001b[0;31m#num = int(input('1~4번 중 하나를 입력하세요. : ' ))  #input() 입력\u001b[0m\u001b[0;34m\u001b[0m\u001b[0;34m\u001b[0m\u001b[0;34m\u001b[0m\u001b[0m\n\u001b[1;32m     15\u001b[0m   \u001b[0mprint\u001b[0m \u001b[0;34m(\u001b[0m\u001b[0;34mf'선택한 번호 :{num}'\u001b[0m\u001b[0;34m)\u001b[0m\u001b[0;34m\u001b[0m\u001b[0;34m\u001b[0m\u001b[0m\n",
            "\u001b[0;32m/usr/local/lib/python3.7/dist-packages/ipykernel/kernelbase.py\u001b[0m in \u001b[0;36mraw_input\u001b[0;34m(self, prompt)\u001b[0m\n\u001b[1;32m    702\u001b[0m             \u001b[0mself\u001b[0m\u001b[0;34m.\u001b[0m\u001b[0m_parent_ident\u001b[0m\u001b[0;34m,\u001b[0m\u001b[0;34m\u001b[0m\u001b[0;34m\u001b[0m\u001b[0m\n\u001b[1;32m    703\u001b[0m             \u001b[0mself\u001b[0m\u001b[0;34m.\u001b[0m\u001b[0m_parent_header\u001b[0m\u001b[0;34m,\u001b[0m\u001b[0;34m\u001b[0m\u001b[0;34m\u001b[0m\u001b[0m\n\u001b[0;32m--> 704\u001b[0;31m             \u001b[0mpassword\u001b[0m\u001b[0;34m=\u001b[0m\u001b[0;32mFalse\u001b[0m\u001b[0;34m,\u001b[0m\u001b[0;34m\u001b[0m\u001b[0;34m\u001b[0m\u001b[0m\n\u001b[0m\u001b[1;32m    705\u001b[0m         )\n\u001b[1;32m    706\u001b[0m \u001b[0;34m\u001b[0m\u001b[0m\n",
            "\u001b[0;32m/usr/local/lib/python3.7/dist-packages/ipykernel/kernelbase.py\u001b[0m in \u001b[0;36m_input_request\u001b[0;34m(self, prompt, ident, parent, password)\u001b[0m\n\u001b[1;32m    732\u001b[0m             \u001b[0;32mexcept\u001b[0m \u001b[0mKeyboardInterrupt\u001b[0m\u001b[0;34m:\u001b[0m\u001b[0;34m\u001b[0m\u001b[0;34m\u001b[0m\u001b[0m\n\u001b[1;32m    733\u001b[0m                 \u001b[0;31m# re-raise KeyboardInterrupt, to truncate traceback\u001b[0m\u001b[0;34m\u001b[0m\u001b[0;34m\u001b[0m\u001b[0;34m\u001b[0m\u001b[0m\n\u001b[0;32m--> 734\u001b[0;31m                 \u001b[0;32mraise\u001b[0m \u001b[0mKeyboardInterrupt\u001b[0m\u001b[0;34m\u001b[0m\u001b[0;34m\u001b[0m\u001b[0m\n\u001b[0m\u001b[1;32m    735\u001b[0m             \u001b[0;32melse\u001b[0m\u001b[0;34m:\u001b[0m\u001b[0;34m\u001b[0m\u001b[0;34m\u001b[0m\u001b[0m\n\u001b[1;32m    736\u001b[0m                 \u001b[0;32mbreak\u001b[0m\u001b[0;34m\u001b[0m\u001b[0;34m\u001b[0m\u001b[0m\n",
            "\u001b[0;31mKeyboardInterrupt\u001b[0m: "
          ]
        }
      ]
    },
    {
      "cell_type": "code",
      "source": [
        "prompt = \"\"\"\n",
        "  1. 추가\n",
        "  2. 삭제\n",
        "  3. 보기\n",
        "  4. 그만두기\n",
        "   번호를 입력하세요\n",
        "\"\"\"\n",
        "\n",
        "num = 0    #num 초기화 과정 \n",
        "\n",
        "\n",
        "while num != 4:     # 입력한 숫자가 4가 아닐때 아래 반복문을 계속 출력한다. \n",
        "   print(prompt)\n",
        "   num = int(input(prompt))    #input() 입력 \n",
        "  #num = int(input('1~4번 중 하나를 입력하세요. : ' ))  #input() 입력 \n",
        " \n",
        "  print (f'선택한 번호 :{num}')"
      ],
      "metadata": {
        "colab": {
          "base_uri": "https://localhost:8080/",
          "height": 136
        },
        "id": "FWobfNDOGHn5",
        "outputId": "ca91d6b1-1923-44ce-bcb2-df0eaa2943b6"
      },
      "execution_count": 54,
      "outputs": [
        {
          "output_type": "error",
          "ename": "IndentationError",
          "evalue": "ignored",
          "traceback": [
            "\u001b[0;36m  File \u001b[0;32m\"<ipython-input-54-7666c5f575b3>\"\u001b[0;36m, line \u001b[0;32m17\u001b[0m\n\u001b[0;31m    print (f'선택한 번호 :{num}')\u001b[0m\n\u001b[0m                            ^\u001b[0m\n\u001b[0;31mIndentationError\u001b[0m\u001b[0;31m:\u001b[0m unindent does not match any outer indentation level\n"
          ]
        }
      ]
    },
    {
      "cell_type": "code",
      "source": [
        "# 자판기\n",
        "\n",
        "num_coffee =10\n",
        "\n",
        "money =0\n",
        "\n",
        "while money:          #오류 발생 지점\n",
        "  print('커피를 판매합니다.')\n",
        "\n",
        "  num_coffee -= 1\n",
        "  print(f'남은 커피는 {num_coffee} 입니다.')\n",
        "\n",
        "  if coffee <= 0:\n",
        "    print('커피 판매를 중지합니다. ')\n",
        "    break"
      ],
      "metadata": {
        "id": "ognZxZNQGHtV"
      },
      "execution_count": 58,
      "outputs": []
    },
    {
      "cell_type": "markdown",
      "source": [
        "문법 에러_코딩 오류\n",
        "로직 오류_실행은 안되고 오류는 표시되지 않는다 . 문법적인 오류 이외의 오류이다. \n",
        "\n",
        "money 가 0이라서 오류가 발생하는 것이다. \n"
      ],
      "metadata": {
        "id": "6kwLBhhzKUr5"
      }
    },
    {
      "cell_type": "code",
      "source": [
        "# 자판기\n",
        "\n",
        "\n",
        "num_coffee =10\n",
        "\n",
        "money = True          #money = 0은 명시적으로 False가 되므로 숫자나 True 입력\n",
        "\n",
        "\n",
        "while money:\n",
        "  print('커피를 판매합니다.')\n",
        "  \n",
        "\n",
        "  num_coffee -= 1               #num_coffee를 1씩 줄여준다. \n",
        "  print(f'남은 커피는 {num_coffee} 입니다.')\n",
        "\n",
        "  if num_coffee <= 0:            #num_coffee 가  0이 되면 print문 출력하고  while 문에서 나간다.\n",
        "    print('커피 판매를 중지합니다. ')\n",
        "    break                         #while문 종료를 의미\n",
        "\n",
        "print ('판매 종료')"
      ],
      "metadata": {
        "colab": {
          "base_uri": "https://localhost:8080/"
        },
        "id": "wfkoafK1GHzE",
        "outputId": "761020d9-db58-4cd3-ecb8-7e1de11c60aa"
      },
      "execution_count": 66,
      "outputs": [
        {
          "output_type": "stream",
          "name": "stdout",
          "text": [
            "커피를 판매합니다.\n",
            "남은 커피는 9 입니다.\n",
            "커피를 판매합니다.\n",
            "남은 커피는 8 입니다.\n",
            "커피를 판매합니다.\n",
            "남은 커피는 7 입니다.\n",
            "커피를 판매합니다.\n",
            "남은 커피는 6 입니다.\n",
            "커피를 판매합니다.\n",
            "남은 커피는 5 입니다.\n",
            "커피를 판매합니다.\n",
            "남은 커피는 4 입니다.\n",
            "커피를 판매합니다.\n",
            "남은 커피는 3 입니다.\n",
            "커피를 판매합니다.\n",
            "남은 커피는 2 입니다.\n",
            "커피를 판매합니다.\n",
            "남은 커피는 1 입니다.\n",
            "커피를 판매합니다.\n",
            "남은 커피는 0 입니다.\n",
            "커피 판매를 중지합니다. \n",
            "판매 종료\n"
          ]
        }
      ]
    },
    {
      "cell_type": "markdown",
      "source": [
        "Bool\n",
        "*   True :  a=1 , a =True ->명시적으로 True\n",
        "*   False :a = False -> 명시적으로 False\n",
        "  \n",
        "   암묵적 False로 보는 경우  \n",
        "1.   숫자 0\n",
        "2.   None\n",
        "3.   ' '\n",
        "\n",
        "\n"
      ],
      "metadata": {
        "id": "QHmakdibLp9Z"
      }
    },
    {
      "cell_type": "markdown",
      "source": [
        "나혼자 하는 표만들기\n",
        "\n",
        "|내용|설명|\n",
        "|---|---|\n",
        "|   |   |\n",
        "\n",
        "---\n",
        "|제목|내용|설명|\n",
        "|:---|:---:|---:|\n",
        "||중앙에서확장||\n",
        "|||오른쪽에서 확장|\n",
        "|왼쪽에서확장||\n",
        "\n",
        "\n",
        "---\n",
        "\n",
        "|제목|내용|설명|\n",
        "|:---|---:|       :---:| \n",
        "|왼쪽정렬|오른쪽정렬|중앙정렬|\n",
        "|왼쪽정렬|오른쪽정렬|중앙정렬|\n",
        "|왼쪽정렬|오른쪽정렬|중앙정렬|\n",
        "\n"
      ],
      "metadata": {
        "id": "jm80hY7eM1Fu"
      }
    },
    {
      "cell_type": "code",
      "source": [
        "# 자판기 2_ 남은 커피의 개수 구하기\n",
        "\n",
        "num_coffee =10\n",
        "\n",
        "money = True          #money = 0은 명시적으로 False가 되므로 숫자나 True 입력\n",
        "\n",
        "\n",
        "while money:\n",
        "  print('커피를 판매합니다.')\n",
        "  num_coffee2 = int(input(\"구매하는 커피 개수를 입력하세요.:\"))\n",
        "  \n",
        "  print (f'남은 커피는 : {num_coffee-num_coffee2} 입니다.')\n",
        " ##############################################\n",
        " # num_coffee -= int(num_coffee = ())              #num_coffee를 1씩 줄여준다. \n",
        " \n",
        "\n",
        "  if num_coffee <= 0:            #num_coffee 가  0이 되면 print문 출력하고  while 문에서 나간다.\n",
        "    print('커피 판매를 중지합니다. ')\n",
        "    break                         #while문 종료를 의미\n",
        "\n",
        "print ('판매 종료')"
      ],
      "metadata": {
        "colab": {
          "base_uri": "https://localhost:8080/",
          "height": 648
        },
        "id": "sWxPD1qxGH3N",
        "outputId": "0c6ee35c-0e9c-48e2-c397-29a730d7c529"
      },
      "execution_count": 71,
      "outputs": [
        {
          "output_type": "stream",
          "name": "stdout",
          "text": [
            "커피를 판매합니다.\n",
            "구매하는 커피 개수를 입력하세요.:2\n",
            "남은 커피는 : 8 입니다.\n",
            "남은 커피는 2 입니다.\n",
            "커피를 판매합니다.\n"
          ]
        },
        {
          "output_type": "error",
          "ename": "KeyboardInterrupt",
          "evalue": "ignored",
          "traceback": [
            "\u001b[0;31m---------------------------------------------------------------------------\u001b[0m",
            "\u001b[0;31mKeyboardInterrupt\u001b[0m                         Traceback (most recent call last)",
            "\u001b[0;32m/usr/local/lib/python3.7/dist-packages/ipykernel/kernelbase.py\u001b[0m in \u001b[0;36m_input_request\u001b[0;34m(self, prompt, ident, parent, password)\u001b[0m\n\u001b[1;32m    728\u001b[0m             \u001b[0;32mtry\u001b[0m\u001b[0;34m:\u001b[0m\u001b[0;34m\u001b[0m\u001b[0;34m\u001b[0m\u001b[0m\n\u001b[0;32m--> 729\u001b[0;31m                 \u001b[0mident\u001b[0m\u001b[0;34m,\u001b[0m \u001b[0mreply\u001b[0m \u001b[0;34m=\u001b[0m \u001b[0mself\u001b[0m\u001b[0;34m.\u001b[0m\u001b[0msession\u001b[0m\u001b[0;34m.\u001b[0m\u001b[0mrecv\u001b[0m\u001b[0;34m(\u001b[0m\u001b[0mself\u001b[0m\u001b[0;34m.\u001b[0m\u001b[0mstdin_socket\u001b[0m\u001b[0;34m,\u001b[0m \u001b[0;36m0\u001b[0m\u001b[0;34m)\u001b[0m\u001b[0;34m\u001b[0m\u001b[0;34m\u001b[0m\u001b[0m\n\u001b[0m\u001b[1;32m    730\u001b[0m             \u001b[0;32mexcept\u001b[0m \u001b[0mException\u001b[0m\u001b[0;34m:\u001b[0m\u001b[0;34m\u001b[0m\u001b[0;34m\u001b[0m\u001b[0m\n",
            "\u001b[0;32m/usr/local/lib/python3.7/dist-packages/jupyter_client/session.py\u001b[0m in \u001b[0;36mrecv\u001b[0;34m(self, socket, mode, content, copy)\u001b[0m\n\u001b[1;32m    802\u001b[0m         \u001b[0;32mtry\u001b[0m\u001b[0;34m:\u001b[0m\u001b[0;34m\u001b[0m\u001b[0;34m\u001b[0m\u001b[0m\n\u001b[0;32m--> 803\u001b[0;31m             \u001b[0mmsg_list\u001b[0m \u001b[0;34m=\u001b[0m \u001b[0msocket\u001b[0m\u001b[0;34m.\u001b[0m\u001b[0mrecv_multipart\u001b[0m\u001b[0;34m(\u001b[0m\u001b[0mmode\u001b[0m\u001b[0;34m,\u001b[0m \u001b[0mcopy\u001b[0m\u001b[0;34m=\u001b[0m\u001b[0mcopy\u001b[0m\u001b[0;34m)\u001b[0m\u001b[0;34m\u001b[0m\u001b[0;34m\u001b[0m\u001b[0m\n\u001b[0m\u001b[1;32m    804\u001b[0m         \u001b[0;32mexcept\u001b[0m \u001b[0mzmq\u001b[0m\u001b[0;34m.\u001b[0m\u001b[0mZMQError\u001b[0m \u001b[0;32mas\u001b[0m \u001b[0me\u001b[0m\u001b[0;34m:\u001b[0m\u001b[0;34m\u001b[0m\u001b[0;34m\u001b[0m\u001b[0m\n",
            "\u001b[0;32m/usr/local/lib/python3.7/dist-packages/zmq/sugar/socket.py\u001b[0m in \u001b[0;36mrecv_multipart\u001b[0;34m(self, flags, copy, track)\u001b[0m\n\u001b[1;32m    624\u001b[0m         \"\"\"\n\u001b[0;32m--> 625\u001b[0;31m         \u001b[0mparts\u001b[0m \u001b[0;34m=\u001b[0m \u001b[0;34m[\u001b[0m\u001b[0mself\u001b[0m\u001b[0;34m.\u001b[0m\u001b[0mrecv\u001b[0m\u001b[0;34m(\u001b[0m\u001b[0mflags\u001b[0m\u001b[0;34m,\u001b[0m \u001b[0mcopy\u001b[0m\u001b[0;34m=\u001b[0m\u001b[0mcopy\u001b[0m\u001b[0;34m,\u001b[0m \u001b[0mtrack\u001b[0m\u001b[0;34m=\u001b[0m\u001b[0mtrack\u001b[0m\u001b[0;34m)\u001b[0m\u001b[0;34m]\u001b[0m\u001b[0;34m\u001b[0m\u001b[0;34m\u001b[0m\u001b[0m\n\u001b[0m\u001b[1;32m    626\u001b[0m         \u001b[0;31m# have first part already, only loop while more to receive\u001b[0m\u001b[0;34m\u001b[0m\u001b[0;34m\u001b[0m\u001b[0;34m\u001b[0m\u001b[0m\n",
            "\u001b[0;32mzmq/backend/cython/socket.pyx\u001b[0m in \u001b[0;36mzmq.backend.cython.socket.Socket.recv\u001b[0;34m()\u001b[0m\n",
            "\u001b[0;32mzmq/backend/cython/socket.pyx\u001b[0m in \u001b[0;36mzmq.backend.cython.socket.Socket.recv\u001b[0;34m()\u001b[0m\n",
            "\u001b[0;32mzmq/backend/cython/socket.pyx\u001b[0m in \u001b[0;36mzmq.backend.cython.socket._recv_copy\u001b[0;34m()\u001b[0m\n",
            "\u001b[0;32m/usr/local/lib/python3.7/dist-packages/zmq/backend/cython/checkrc.pxd\u001b[0m in \u001b[0;36mzmq.backend.cython.checkrc._check_rc\u001b[0;34m()\u001b[0m\n",
            "\u001b[0;31mKeyboardInterrupt\u001b[0m: ",
            "\nDuring handling of the above exception, another exception occurred:\n",
            "\u001b[0;31mKeyboardInterrupt\u001b[0m                         Traceback (most recent call last)",
            "\u001b[0;32m<ipython-input-71-ae3f3cdcb885>\u001b[0m in \u001b[0;36m<module>\u001b[0;34m()\u001b[0m\n\u001b[1;32m      8\u001b[0m \u001b[0;32mwhile\u001b[0m \u001b[0mmoney\u001b[0m\u001b[0;34m:\u001b[0m\u001b[0;34m\u001b[0m\u001b[0;34m\u001b[0m\u001b[0m\n\u001b[1;32m      9\u001b[0m   \u001b[0mprint\u001b[0m\u001b[0;34m(\u001b[0m\u001b[0;34m'커피를 판매합니다.'\u001b[0m\u001b[0;34m)\u001b[0m\u001b[0;34m\u001b[0m\u001b[0;34m\u001b[0m\u001b[0m\n\u001b[0;32m---> 10\u001b[0;31m   \u001b[0mnum_coffee2\u001b[0m \u001b[0;34m=\u001b[0m \u001b[0mint\u001b[0m\u001b[0;34m(\u001b[0m\u001b[0minput\u001b[0m\u001b[0;34m(\u001b[0m\u001b[0;34m\"구매하는 커피 개수를 입력하세요.:\"\u001b[0m\u001b[0;34m)\u001b[0m\u001b[0;34m)\u001b[0m\u001b[0;34m\u001b[0m\u001b[0;34m\u001b[0m\u001b[0m\n\u001b[0m\u001b[1;32m     11\u001b[0m \u001b[0;34m\u001b[0m\u001b[0m\n\u001b[1;32m     12\u001b[0m   \u001b[0mprint\u001b[0m \u001b[0;34m(\u001b[0m\u001b[0;34mf'남은 커피는 : {num_coffee-num_coffee2} 입니다.'\u001b[0m\u001b[0;34m)\u001b[0m\u001b[0;34m\u001b[0m\u001b[0;34m\u001b[0m\u001b[0m\n",
            "\u001b[0;32m/usr/local/lib/python3.7/dist-packages/ipykernel/kernelbase.py\u001b[0m in \u001b[0;36mraw_input\u001b[0;34m(self, prompt)\u001b[0m\n\u001b[1;32m    702\u001b[0m             \u001b[0mself\u001b[0m\u001b[0;34m.\u001b[0m\u001b[0m_parent_ident\u001b[0m\u001b[0;34m,\u001b[0m\u001b[0;34m\u001b[0m\u001b[0;34m\u001b[0m\u001b[0m\n\u001b[1;32m    703\u001b[0m             \u001b[0mself\u001b[0m\u001b[0;34m.\u001b[0m\u001b[0m_parent_header\u001b[0m\u001b[0;34m,\u001b[0m\u001b[0;34m\u001b[0m\u001b[0;34m\u001b[0m\u001b[0m\n\u001b[0;32m--> 704\u001b[0;31m             \u001b[0mpassword\u001b[0m\u001b[0;34m=\u001b[0m\u001b[0;32mFalse\u001b[0m\u001b[0;34m,\u001b[0m\u001b[0;34m\u001b[0m\u001b[0;34m\u001b[0m\u001b[0m\n\u001b[0m\u001b[1;32m    705\u001b[0m         )\n\u001b[1;32m    706\u001b[0m \u001b[0;34m\u001b[0m\u001b[0m\n",
            "\u001b[0;32m/usr/local/lib/python3.7/dist-packages/ipykernel/kernelbase.py\u001b[0m in \u001b[0;36m_input_request\u001b[0;34m(self, prompt, ident, parent, password)\u001b[0m\n\u001b[1;32m    732\u001b[0m             \u001b[0;32mexcept\u001b[0m \u001b[0mKeyboardInterrupt\u001b[0m\u001b[0;34m:\u001b[0m\u001b[0;34m\u001b[0m\u001b[0;34m\u001b[0m\u001b[0m\n\u001b[1;32m    733\u001b[0m                 \u001b[0;31m# re-raise KeyboardInterrupt, to truncate traceback\u001b[0m\u001b[0;34m\u001b[0m\u001b[0;34m\u001b[0m\u001b[0;34m\u001b[0m\u001b[0m\n\u001b[0;32m--> 734\u001b[0;31m                 \u001b[0;32mraise\u001b[0m \u001b[0mKeyboardInterrupt\u001b[0m\u001b[0;34m\u001b[0m\u001b[0;34m\u001b[0m\u001b[0m\n\u001b[0m\u001b[1;32m    735\u001b[0m             \u001b[0;32melse\u001b[0m\u001b[0;34m:\u001b[0m\u001b[0;34m\u001b[0m\u001b[0;34m\u001b[0m\u001b[0m\n\u001b[1;32m    736\u001b[0m                 \u001b[0;32mbreak\u001b[0m\u001b[0;34m\u001b[0m\u001b[0;34m\u001b[0m\u001b[0m\n",
            "\u001b[0;31mKeyboardInterrupt\u001b[0m: "
          ]
        }
      ]
    },
    {
      "cell_type": "code",
      "source": [
        "#돈을 입력받는 기능\n",
        "#.커피의 가격을 정하고 투입된 돈과 비교하여 동일한 경우, 남는 경우, 부족한 경우# 자판기 2_ 남은 커피의 개수 구하기\n",
        "\n",
        "num_coffee =10\n",
        "price = 5000\n",
        "\n",
        "while num_coffee >= 0:\n",
        "  restcoffee = int(input('구매하는 커피 개수 = '))\n",
        "  print (f'커피 총 가격 = {restcoffee*price}')\n",
        "  \n",
        "  input_price =int(input('돈을 넣어 주세요 = ')) \n",
        "\n",
        "  if input_price > 5000\n",
        "    print(f'넣은 금액이 {}')\n",
        "  \n",
        "\n",
        "#===================반복문===================\n",
        "#while num_coffee > 0 :\n",
        "   \n",
        "num_coffee2 = int(input(\"구매하는 커피 개수 =\"))\n",
        "print(f'커피 총 가격 = {num_coffee2*price}')\n",
        "\n",
        " \n",
        "print(f'커피 총 가격은 : {num_coffee2*price}')\n",
        "  \n",
        " # input_price = input(\"금액을 넣어주세요 :\")\n",
        "\n",
        " # if input_price> total_price:\n",
        "   # print('금액이 남습니다.')\n",
        "\n",
        "  #elif input_price == total_price:\n",
        "     #print(\"금액이 같습니다.\")\n",
        "\n",
        " # else:\n",
        "     #price('금액이 부족합니다. ')\n",
        "\n",
        "#break\n",
        "\n",
        "  #print(f'남은 커피는 {num_coffee} 입니다.')\n",
        "  #print('판매를 종료합니다.')\n",
        " "
      ],
      "metadata": {
        "colab": {
          "base_uri": "https://localhost:8080/"
        },
        "id": "jvS-2Q6RGICz",
        "outputId": "9100fa64-9776-49b9-8255-e39fa54e57de"
      },
      "execution_count": 169,
      "outputs": [
        {
          "output_type": "stream",
          "name": "stdout",
          "text": [
            "커피를 판매합니다.\n",
            " 구매하는 커피 개수를 입력하세요.:9\n",
            "커피 총 가격은 : 45000\n"
          ]
        }
      ]
    },
    {
      "cell_type": "markdown",
      "source": [
        ""
      ],
      "metadata": {
        "id": "6Xq48tXu4c_h"
      }
    },
    {
      "cell_type": "code",
      "source": [
        "#1~10 홀수 구하는 프로그램\n",
        "num =0\n",
        "\n",
        "while num <10 :\n",
        "  num +=1\n",
        "\n",
        "  if num%2 ==1:\n",
        "    print(f'홀수 :{num}')\n",
        "\n",
        " # else:\n",
        "    #print(f'짝수:{num}')"
      ],
      "metadata": {
        "colab": {
          "base_uri": "https://localhost:8080/"
        },
        "id": "9hjt1XRlGIHp",
        "outputId": "c61cbd73-2298-46cc-a59a-c414a8b4a265"
      },
      "execution_count": 119,
      "outputs": [
        {
          "output_type": "stream",
          "name": "stdout",
          "text": [
            "홀수 :1\n",
            "짝수:2\n",
            "홀수 :3\n",
            "짝수:4\n",
            "홀수 :5\n",
            "짝수:6\n",
            "홀수 :7\n",
            "짝수:8\n",
            "홀수 :9\n",
            "짝수:10\n"
          ]
        }
      ]
    },
    {
      "cell_type": "code",
      "source": [
        "# 홀수 짝수 구하기 2\n",
        "#1~10  숫자를 입력하고, 홀수 짝수 구하는 프로그램\n",
        "\n",
        "#num =0\n",
        "num = int(input('1~10 사이 숫자를 입력하세요. = '))\n",
        "\n",
        "if num%2 == 0:\n",
        "    print(f'{num}은 짝수')\n",
        "\n",
        "else:\n",
        "    print(f'{num}은 홀수')\n",
        "    \n"
      ],
      "metadata": {
        "colab": {
          "base_uri": "https://localhost:8080/"
        },
        "id": "iMlLVSwrGIQY",
        "outputId": "bd1b0a6d-c958-49c9-bf8c-73b70517c118"
      },
      "execution_count": 128,
      "outputs": [
        {
          "output_type": "stream",
          "name": "stdout",
          "text": [
            "1~10 사이 숫자를 입력하세요. = 9\n",
            "9은 홀수\n"
          ]
        }
      ]
    },
    {
      "cell_type": "markdown",
      "source": [
        "##for문\n",
        " \n",
        "\n",
        "1.   for문 = 반복문\n",
        "2.   기본 구문\n",
        "     for 변수 in 리스트/튜플/문자열\n",
        "     실행문\n",
        "\n"
      ],
      "metadata": {
        "id": "kJRN6XAYs400"
      }
    },
    {
      "cell_type": "code",
      "source": [
        "ICnt =['one','two','three']\n",
        "\n",
        "for i in ICnt:\n",
        " print(i)"
      ],
      "metadata": {
        "colab": {
          "base_uri": "https://localhost:8080/"
        },
        "id": "Ir4njK1yGIUB",
        "outputId": "254b11df-407d-4f4a-9f8a-ea0f2002559a"
      },
      "execution_count": 130,
      "outputs": [
        {
          "output_type": "stream",
          "name": "stdout",
          "text": [
            "one\n",
            "two\n",
            "three\n"
          ]
        }
      ]
    },
    {
      "cell_type": "code",
      "source": [
        "num =[(1,2),(3,4),(5,6)]\n",
        "\n",
        "for (start,stop) in num:\n",
        "  print( stop-start)"
      ],
      "metadata": {
        "colab": {
          "base_uri": "https://localhost:8080/"
        },
        "id": "8xLIYIRnth-j",
        "outputId": "aeab7913-9c03-4844-8f91-2e40460f24f1"
      },
      "execution_count": 135,
      "outputs": [
        {
          "output_type": "stream",
          "name": "stdout",
          "text": [
            "1\n",
            "1\n",
            "1\n"
          ]
        }
      ]
    },
    {
      "cell_type": "markdown",
      "source": [
        "### 합불 예제"
      ],
      "metadata": {
        "id": "CWb7Qlt-tx3t"
      }
    },
    {
      "cell_type": "code",
      "source": [
        "scores = [60,78,90,50,70]\n",
        "cut_off = 60\n",
        "\n",
        "num =0\n",
        "for score in scores:\n",
        "   num +=1\n",
        "  if score>=cut_off:\n",
        "    print(f\"{num}학생은 합격입니다\")\n",
        "  else :\n",
        "    print(f\"{num}학생은 다음 기회에\")\n",
        "\n",
        "\n",
        "num =0\n",
        "for score in scores:\n",
        "  num += 1\n",
        "  if score >= cut_off:\n",
        "    "
      ],
      "metadata": {
        "colab": {
          "base_uri": "https://localhost:8080/",
          "height": 136
        },
        "id": "XL8ck-ssuQHT",
        "outputId": "4094c7bd-99eb-4636-b69b-535223f2efe7"
      },
      "execution_count": 153,
      "outputs": [
        {
          "output_type": "error",
          "ename": "IndentationError",
          "evalue": "ignored",
          "traceback": [
            "\u001b[0;36m  File \u001b[0;32m\"<ipython-input-153-175ce5c8915c>\"\u001b[0;36m, line \u001b[0;32m7\u001b[0m\n\u001b[0;31m    if score>=cut_off:\u001b[0m\n\u001b[0m                      ^\u001b[0m\n\u001b[0;31mIndentationError\u001b[0m\u001b[0;31m:\u001b[0m unindent does not match any outer indentation level\n"
          ]
        }
      ]
    },
    {
      "cell_type": "markdown",
      "source": [
        "###range() 함수\n",
        "range(start=0,stop, step=1)\n",
        "start는 반드시 함수에 줘야한다. \n",
        "start 값을 주지 않으면 기본적으로 0을 준다\n",
        "sept 값을 주지 않으면 기본적으로 1을 준다. "
      ],
      "metadata": {
        "id": "YxHhsccGwDmf"
      }
    },
    {
      "cell_type": "code",
      "source": [
        "a = range(10)\n",
        "a"
      ],
      "metadata": {
        "colab": {
          "base_uri": "https://localhost:8080/"
        },
        "id": "_gEoVtUzuQNF",
        "outputId": "e335cfd5-f313-4b03-eff9-9a8fbd4ac6a4"
      },
      "execution_count": 147,
      "outputs": [
        {
          "output_type": "execute_result",
          "data": {
            "text/plain": [
              "range(0, 10)"
            ]
          },
          "metadata": {},
          "execution_count": 147
        }
      ]
    },
    {
      "cell_type": "code",
      "source": [
        "result =0\n",
        "\n",
        "for i in range(1,11):\n",
        "   result += i\n",
        "print(result)"
      ],
      "metadata": {
        "colab": {
          "base_uri": "https://localhost:8080/"
        },
        "id": "H0RohYvVuQSj",
        "outputId": "c70152fa-ea10-42fb-f173-32aecc58a4d7"
      },
      "execution_count": 152,
      "outputs": [
        {
          "output_type": "stream",
          "name": "stdout",
          "text": [
            "55\n"
          ]
        }
      ]
    },
    {
      "cell_type": "markdown",
      "source": [
        "###List Comprehension"
      ],
      "metadata": {
        "id": "1jrP8YFMxUG-"
      }
    },
    {
      "cell_type": "code",
      "source": [
        "result = [num+3 for num in scores]\n",
        "result"
      ],
      "metadata": {
        "colab": {
          "base_uri": "https://localhost:8080/"
        },
        "id": "PE5T5pvjuQWR",
        "outputId": "dc0d8765-9c52-4efd-ef42-8a14d680de2f"
      },
      "execution_count": 156,
      "outputs": [
        {
          "output_type": "execute_result",
          "data": {
            "text/plain": [
              "[63, 81, 93, 53, 73]"
            ]
          },
          "metadata": {},
          "execution_count": 156
        }
      ]
    },
    {
      "cell_type": "code",
      "source": [
        "# 점수가 100점 만점일 경우 만약 점수가 98점일 경우 3점을 주면 100이 넘어가게 된다.\n",
        "#\n",
        "scores2 = [63, 81, 99, 53, 73]\n",
        "result = [num+3 for num in scores2 if num <(100-3)]\n",
        "result"
      ],
      "metadata": {
        "colab": {
          "base_uri": "https://localhost:8080/"
        },
        "id": "HBbKZh6bxbfb",
        "outputId": "2ca5b0c0-2a0f-404a-df1a-45200f7be300"
      },
      "execution_count": 159,
      "outputs": [
        {
          "output_type": "execute_result",
          "data": {
            "text/plain": [
              "[66, 84, 56, 76]"
            ]
          },
          "metadata": {},
          "execution_count": 159
        }
      ]
    },
    {
      "cell_type": "code",
      "source": [
        "#2~10까지 x에 넣고 , y에는 1부터 10까지 넣고 곱한다음 빼는 것\n",
        "result =[x*y for x in range(2,10)for y in range(1,10)]\n",
        "\n",
        "result"
      ],
      "metadata": {
        "colab": {
          "base_uri": "https://localhost:8080/"
        },
        "id": "ku345yAfyBRj",
        "outputId": "1ef26a6f-4a27-46ed-a09e-ae3fcde92fd6"
      },
      "execution_count": 1,
      "outputs": [
        {
          "output_type": "execute_result",
          "data": {
            "text/plain": [
              "[2,\n",
              " 4,\n",
              " 6,\n",
              " 8,\n",
              " 10,\n",
              " 12,\n",
              " 14,\n",
              " 16,\n",
              " 18,\n",
              " 3,\n",
              " 6,\n",
              " 9,\n",
              " 12,\n",
              " 15,\n",
              " 18,\n",
              " 21,\n",
              " 24,\n",
              " 27,\n",
              " 4,\n",
              " 8,\n",
              " 12,\n",
              " 16,\n",
              " 20,\n",
              " 24,\n",
              " 28,\n",
              " 32,\n",
              " 36,\n",
              " 5,\n",
              " 10,\n",
              " 15,\n",
              " 20,\n",
              " 25,\n",
              " 30,\n",
              " 35,\n",
              " 40,\n",
              " 45,\n",
              " 6,\n",
              " 12,\n",
              " 18,\n",
              " 24,\n",
              " 30,\n",
              " 36,\n",
              " 42,\n",
              " 48,\n",
              " 54,\n",
              " 7,\n",
              " 14,\n",
              " 21,\n",
              " 28,\n",
              " 35,\n",
              " 42,\n",
              " 49,\n",
              " 56,\n",
              " 63,\n",
              " 8,\n",
              " 16,\n",
              " 24,\n",
              " 32,\n",
              " 40,\n",
              " 48,\n",
              " 56,\n",
              " 64,\n",
              " 72,\n",
              " 9,\n",
              " 18,\n",
              " 27,\n",
              " 36,\n",
              " 45,\n",
              " 54,\n",
              " 63,\n",
              " 72,\n",
              " 81]"
            ]
          },
          "metadata": {},
          "execution_count": 1
        }
      ]
    },
    {
      "cell_type": "code",
      "source": [
        "lst=[]\n",
        "\n",
        "for x in range (2,10):\n",
        "   for y in range(1,10): \n",
        "    lst.append(x*y)\n",
        "\n",
        "print(lst)"
      ],
      "metadata": {
        "colab": {
          "base_uri": "https://localhost:8080/"
        },
        "id": "wyGBlIdzyN7X",
        "outputId": "b45834df-6d65-4c44-998d-81041a8ab444"
      },
      "execution_count": 165,
      "outputs": [
        {
          "output_type": "stream",
          "name": "stdout",
          "text": [
            "[2, 4, 6, 8, 10, 12, 14, 16, 18, 3, 6, 9, 12, 15, 18, 21, 24, 27, 4, 8, 12, 16, 20, 24, 28, 32, 36, 5, 10, 15, 20, 25, 30, 35, 40, 45, 6, 12, 18, 24, 30, 36, 42, 48, 54, 7, 14, 21, 28, 35, 42, 49, 56, 63, 8, 16, 24, 32, 40, 48, 56, 64, 72, 9, 18, 27, 36, 45, 54, 63, 72, 81]\n"
          ]
        }
      ]
    },
    {
      "cell_type": "markdown",
      "source": [
        ".append()는 마지막에 리스트를 그대로 넣어서 추가하는 것\n",
        "[`````[````]]\n",
        ".extend() 는 리스트의 원소들을 추가하는것\n"
      ],
      "metadata": {
        "id": "81yGukbxzaUC"
      }
    },
    {
      "cell_type": "markdown",
      "source": [
        "##================="
      ],
      "metadata": {
        "id": "NxfuK5175Nzz"
      }
    },
    {
      "cell_type": "markdown",
      "source": [
        "### for문 예제"
      ],
      "metadata": {
        "id": "rtPn3_xm5Abh"
      }
    },
    {
      "cell_type": "code",
      "source": [
        "fruit =['apple','watermelon','orange']\n",
        "\n",
        "for i in fruit:\n",
        "  print(i)"
      ],
      "metadata": {
        "colab": {
          "base_uri": "https://localhost:8080/"
        },
        "id": "oz_MEYJyytYj",
        "outputId": "399881b9-36b8-4f01-9883-3a9c3b20019e"
      },
      "execution_count": 173,
      "outputs": [
        {
          "output_type": "stream",
          "name": "stdout",
          "text": [
            "apple\n",
            "watermelon\n",
            "orange\n"
          ]
        }
      ]
    },
    {
      "cell_type": "code",
      "source": [
        "prices =[1000,20000,3000]\n",
        "\n",
        "for price in prices:\n",
        "  #print(price*0.9)\n",
        "  print(int(price*0.9))     #소수점 없이"
      ],
      "metadata": {
        "colab": {
          "base_uri": "https://localhost:8080/"
        },
        "id": "HHQXr5R04q8w",
        "outputId": "55c40ec2-49b3-4ebc-d6c8-a7f560d3bafd"
      },
      "execution_count": 177,
      "outputs": [
        {
          "output_type": "stream",
          "name": "stdout",
          "text": [
            "900\n",
            "18000\n",
            "2700\n"
          ]
        }
      ]
    },
    {
      "cell_type": "code",
      "source": [
        "# 출력 : 오늘 점심 메뉴 :  식으로 출력되게\n",
        "분식 = ['김밥','라면','튀김']\n",
        "\n",
        "for menu in 분식:\n",
        "  print(f'오늘 점심 메뉴 = {menu}')\n"
      ],
      "metadata": {
        "colab": {
          "base_uri": "https://localhost:8080/"
        },
        "id": "xeNll48P53qn",
        "outputId": "87676ce6-18eb-40be-c282-f05b29ba3d67"
      },
      "execution_count": 179,
      "outputs": [
        {
          "output_type": "stream",
          "name": "stdout",
          "text": [
            "오늘 점심 메뉴 = 김밥\n",
            "오늘 점심 메뉴 = 라면\n",
            "오늘 점심 메뉴 = 튀김\n"
          ]
        }
      ]
    },
    {
      "cell_type": "code",
      "source": [
        "#리스트의 엘리먼트, 엘리먼트의 길이, 엘리먼트의 첫글자를 출력\n",
        "pets =['dog','cat','fish']\n",
        "\n",
        "for pet in pets:\n",
        "    #print(f'{pet},{len(pet)},{pet[0]}')\n",
        "    print(pet,len(pet),pet[0])\n"
      ],
      "metadata": {
        "colab": {
          "base_uri": "https://localhost:8080/"
        },
        "id": "V2j1dYcm6h7v",
        "outputId": "ab84f296-6364-45c3-f438-ab9b4ab75b29"
      },
      "execution_count": 191,
      "outputs": [
        {
          "output_type": "stream",
          "name": "stdout",
          "text": [
            "dog 3 d\n",
            "cat 3 c\n",
            "fish 4 f\n"
          ]
        }
      ]
    },
    {
      "cell_type": "code",
      "source": [
        "#dog를 제외하고 출력\n",
        "pets =['dog','cat','fish','hamster']\n",
        "\n",
        "#del pets[0]\n",
        "\n",
        "for pet in pets[1:]:\n",
        "  print(pet)\n",
        "\n",
        "  #for i in pet:\n",
        "  #if i != 'dog':\n",
        "  #  print(i)\n"
      ],
      "metadata": {
        "colab": {
          "base_uri": "https://localhost:8080/"
        },
        "id": "B0UuL8P-7-51",
        "outputId": "c4845cea-cb5e-4594-80b7-2d2dd856b3f6"
      },
      "execution_count": 200,
      "outputs": [
        {
          "output_type": "stream",
          "name": "stdout",
          "text": [
            "cat\n",
            "fish\n",
            "hamster\n"
          ]
        }
      ]
    },
    {
      "cell_type": "code",
      "source": [
        "#cat,fish 만 출력하고자 할때\n",
        "pets =['dog','cat','hamster','fish']\n",
        "\n",
        "for pet in pets[1::2]:   # [1::2]index 1 위치에서 2칸 간격으로\n",
        "  print(pet)\n"
      ],
      "metadata": {
        "colab": {
          "base_uri": "https://localhost:8080/"
        },
        "id": "7bipT_YB9tZe",
        "outputId": "fe6fda3a-fb29-438e-c990-30630b03767d"
      },
      "execution_count": 220,
      "outputs": [
        {
          "output_type": "stream",
          "name": "stdout",
          "text": [
            "cat\n",
            "fish\n"
          ]
        }
      ]
    },
    {
      "cell_type": "code",
      "source": [
        "# 반대 순서대로 출력이 ['fish', 'hamster', 'cat', 'dog']\n",
        "pets =['dog','cat','hamster','fish']\n",
        "\n",
        "#for 함수 사용\n",
        "#for pet in pets[::-1]:   \n",
        "  #print(pet)"
      ],
      "metadata": {
        "colab": {
          "base_uri": "https://localhost:8080/"
        },
        "id": "iHN_KlDq_RIn",
        "outputId": "bbfa4b80-dbef-49ec-a3c4-c3536df9a48f"
      },
      "execution_count": 228,
      "outputs": [
        {
          "output_type": "execute_result",
          "data": {
            "text/plain": [
              "['fish', 'hamster', 'cat', 'dog']"
            ]
          },
          "metadata": {},
          "execution_count": 228
        }
      ]
    },
    {
      "cell_type": "markdown",
      "source": [
        "###array [:]/{::] 사용 기법\n",
        ">> arr = range(10) >> arr [0,1,2,3,4,5,6,7,8,9] \n",
        ">> arr[::2] \n",
        "처음부터 끝까지 두 칸 간격으로 [0,2,4,6,8] \n",
        ">> arr[1::2] # index 1 부터 끝까지 두 칸 간격으로 [1,3,5,7,9] \n",
        ">> arr[::-1] # 처음부터 끝까지 -1칸 간격으로 ( == 역순으로) [9,8,7,6,5,4,3,2,1,0] \n",
        ">> arr[::-2] # 처음부터 끝까지 -2칸 간격으로 ( == 역순, 두 칸 간격으로) [9,7,5,3,1] \n",
        ">> arr[3::-1] # index 3 부터 끝까지 -1칸 간격으로 ( == 역순으로) [3,2,1,0] >> arr[1:6:2] # index 1 부터 index 6 까지 두 칸 간격으로 [1,3,5]"
      ],
      "metadata": {
        "id": "MWPwl7oJCBqu"
      }
    },
    {
      "cell_type": "code",
      "source": [
        "# 반대 순서대로2_ 출력이 ['fish', 'hamster', 'cat', 'dog']\n",
        "pets =['dog','cat','hamster','fish']\n",
        "#.reverse() 함수 사용\n",
        "pets.reverse()\n",
        "pets"
      ],
      "metadata": {
        "colab": {
          "base_uri": "https://localhost:8080/"
        },
        "id": "EdYQ_k28Bvhk",
        "outputId": "a8362546-3ea7-45cf-9b99-3852594f9d18"
      },
      "execution_count": 229,
      "outputs": [
        {
          "output_type": "execute_result",
          "data": {
            "text/plain": [
              "['fish', 'hamster', 'cat', 'dog']"
            ]
          },
          "metadata": {},
          "execution_count": 229
        }
      ]
    },
    {
      "cell_type": "code",
      "source": [
        "#음수만 출력\n",
        "num =[10,-20,-30,40]\n",
        "for n in num[1:3]:\n",
        "  print(n)"
      ],
      "metadata": {
        "colab": {
          "base_uri": "https://localhost:8080/"
        },
        "id": "e5xU63lSDzgv",
        "outputId": "a41d1251-238f-4137-9fb4-3c4f35263841"
      },
      "execution_count": 231,
      "outputs": [
        {
          "output_type": "stream",
          "name": "stdout",
          "text": [
            "-20\n",
            "-30\n"
          ]
        }
      ]
    },
    {
      "cell_type": "code",
      "source": [
        "num =[10,-20,-30,40]\n",
        "for n in num:\n",
        "  if n<0:\n",
        "    print(n)"
      ],
      "metadata": {
        "colab": {
          "base_uri": "https://localhost:8080/"
        },
        "id": "DU6BmYXQDznT",
        "outputId": "c8a6923f-adfe-48cb-f3f1-3b10106f6786"
      },
      "execution_count": 232,
      "outputs": [
        {
          "output_type": "stream",
          "name": "stdout",
          "text": [
            "-20\n",
            "-30\n"
          ]
        }
      ]
    },
    {
      "cell_type": "code",
      "source": [
        "#list comprehension 사용 ver\n",
        "num =[10,-20,-30,40]\n",
        "\n",
        "result ={n for n in num if n<0}\n",
        "result"
      ],
      "metadata": {
        "colab": {
          "base_uri": "https://localhost:8080/"
        },
        "id": "wQd7kYJjDrH2",
        "outputId": "e58cb6f3-2694-4fce-b8b6-c4452361ab79"
      },
      "execution_count": 235,
      "outputs": [
        {
          "output_type": "execute_result",
          "data": {
            "text/plain": [
              "{-30, -20}"
            ]
          },
          "metadata": {},
          "execution_count": 235
        }
      ]
    },
    {
      "cell_type": "code",
      "source": [
        ""
      ],
      "metadata": {
        "id": "1066sta-FJ13"
      },
      "execution_count": null,
      "outputs": []
    },
    {
      "cell_type": "code",
      "source": [
        ""
      ],
      "metadata": {
        "id": "fV_QLQGBJMbT"
      },
      "execution_count": null,
      "outputs": []
    },
    {
      "cell_type": "markdown",
      "source": [
        "#2 함수"
      ],
      "metadata": {
        "id": "TeKtnzbaJPWG"
      }
    },
    {
      "cell_type": "markdown",
      "source": [
        "def 함수명(입력값)\n",
        "  실행문...."
      ],
      "metadata": {
        "id": "sPcJFmhxJtXS"
      }
    },
    {
      "cell_type": "code",
      "source": [
        "def add(a,b):     # 함수를 정의하고 함수 이름은 add, 입력값은 a,b\n",
        "  return a+b      #a와 b를 더한 값을 돌려주고 출력한다. \n"
      ],
      "metadata": {
        "id": "mH_sHrvCJZYC"
      },
      "execution_count": 20,
      "outputs": []
    },
    {
      "cell_type": "code",
      "source": [
        "a=3\n",
        "b=4\n",
        "\n",
        "c = add(a,b)\n",
        "\n",
        "c"
      ],
      "metadata": {
        "colab": {
          "base_uri": "https://localhost:8080/"
        },
        "id": "rWiyEDPsJi3K",
        "outputId": "5abd9baf-80cf-43e6-dce8-585f95082a1b"
      },
      "execution_count": 3,
      "outputs": [
        {
          "output_type": "execute_result",
          "data": {
            "text/plain": [
              "7"
            ]
          },
          "metadata": {},
          "execution_count": 3
        }
      ]
    },
    {
      "cell_type": "markdown",
      "source": [
        "* ** 매게 변수 (parameter) ** : callee (호출 받은것) 함수에서 입력값으로 받은 것(함수의 입장)\n",
        "* 인수 (argument) : caller :함수를 호출했을때 함수로 보내주는 값\n"
      ],
      "metadata": {
        "id": "MMBt6_ndKbk5"
      }
    },
    {
      "cell_type": "markdown",
      "source": [
        "## 일반 형태\n",
        "***\n",
        "  def 함수명 ( 매게변수);\n",
        "    실행문\n",
        "  return 결과값\n",
        "***\n",
        "\n",
        "변수 = 함수명(인수)"
      ],
      "metadata": {
        "id": "KPnr_2b4LKEH"
      }
    },
    {
      "cell_type": "markdown",
      "source": [
        "##2. 입력값이 없는 경우\n",
        "***\n",
        "  변수 = 함수명()\n",
        "***"
      ],
      "metadata": {
        "id": "k2NOl3kULiJB"
      }
    },
    {
      "cell_type": "code",
      "source": [
        "# 입력값은 없고 출력값만 있는 경우\n",
        "def say():\n",
        "  return 'hi'"
      ],
      "metadata": {
        "id": "svVWo0zCKO3v"
      },
      "execution_count": 4,
      "outputs": []
    },
    {
      "cell_type": "code",
      "source": [
        "a = say()\n",
        "a"
      ],
      "metadata": {
        "colab": {
          "base_uri": "https://localhost:8080/",
          "height": 0
        },
        "id": "ExdLtUotLtvW",
        "outputId": "16584a45-eeef-4ac7-ac66-edc2c4ca4452"
      },
      "execution_count": 5,
      "outputs": [
        {
          "output_type": "execute_result",
          "data": {
            "application/vnd.google.colaboratory.intrinsic+json": {
              "type": "string"
            },
            "text/plain": [
              "'hi'"
            ]
          },
          "metadata": {},
          "execution_count": 5
        }
      ]
    },
    {
      "cell_type": "markdown",
      "source": [
        "##3. 결과 값이 없는 경우\n",
        "***\n",
        " 함수명 (인수)\n",
        "***"
      ],
      "metadata": {
        "id": "5nNHH0syL5jc"
      }
    },
    {
      "cell_type": "code",
      "source": [
        "def add(a,b):\n",
        " print(f'{a},{b}의 합은 {a+b}입니다.')"
      ],
      "metadata": {
        "id": "MbSnHPicLzKi"
      },
      "execution_count": 6,
      "outputs": []
    },
    {
      "cell_type": "code",
      "source": [
        "add(4,9)"
      ],
      "metadata": {
        "colab": {
          "base_uri": "https://localhost:8080/"
        },
        "id": "CRy_HauxMLo2",
        "outputId": "80549776-a229-47a2-bfbc-4306b5e827b8"
      },
      "execution_count": 7,
      "outputs": [
        {
          "output_type": "stream",
          "name": "stdout",
          "text": [
            "4,9의 합은 13입니다.\n"
          ]
        }
      ]
    },
    {
      "cell_type": "markdown",
      "source": [
        "##4. 입력값과 출력값이 모두 없는 경우"
      ],
      "metadata": {
        "id": "fZQEfmqJMbab"
      }
    },
    {
      "cell_type": "code",
      "source": [
        "def say():\n",
        "  print('hi~~')"
      ],
      "metadata": {
        "id": "kY5GA7PVMPy9"
      },
      "execution_count": 8,
      "outputs": []
    },
    {
      "cell_type": "code",
      "source": [
        "say()"
      ],
      "metadata": {
        "colab": {
          "base_uri": "https://localhost:8080/"
        },
        "id": "H2fzHhsXMjg9",
        "outputId": "4ace6d69-9188-4354-afd6-308a7afd8a67"
      },
      "execution_count": 9,
      "outputs": [
        {
          "output_type": "stream",
          "name": "stdout",
          "text": [
            "hi~~\n"
          ]
        }
      ]
    },
    {
      "cell_type": "code",
      "source": [
        "# 위 4가지가 함수의 기본적인 패턴"
      ],
      "metadata": {
        "id": "zDzChYSDMmDV"
      },
      "execution_count": 10,
      "outputs": []
    },
    {
      "cell_type": "code",
      "source": [
        "def add(a,b):\n",
        "  return a+b"
      ],
      "metadata": {
        "id": "-VgnojQ4MsmM"
      },
      "execution_count": 11,
      "outputs": []
    },
    {
      "cell_type": "code",
      "source": [
        "result = add(a=2,b=4)\n",
        "result"
      ],
      "metadata": {
        "colab": {
          "base_uri": "https://localhost:8080/"
        },
        "id": "hG6s49DGM4SY",
        "outputId": "87ceec70-2a10-4136-ed70-fd58d1c37e66"
      },
      "execution_count": 12,
      "outputs": [
        {
          "output_type": "execute_result",
          "data": {
            "text/plain": [
              "6"
            ]
          },
          "metadata": {},
          "execution_count": 12
        }
      ]
    },
    {
      "cell_type": "code",
      "source": [
        "result = add(2,4)         #add 안의 인수의 매개 변수를 지정하지 않으면 오류가 발생할 수 있다. \n",
        "result"
      ],
      "metadata": {
        "colab": {
          "base_uri": "https://localhost:8080/"
        },
        "id": "gxI2NX82M91K",
        "outputId": "a0dcd3dd-7248-4c6c-b505-18daf635c36d"
      },
      "execution_count": 13,
      "outputs": [
        {
          "output_type": "execute_result",
          "data": {
            "text/plain": [
              "6"
            ]
          },
          "metadata": {},
          "execution_count": 13
        }
      ]
    },
    {
      "cell_type": "code",
      "source": [
        "# ㄴ> 순서에 상관없이 지정할 수 있다. "
      ],
      "metadata": {
        "id": "43ye0HcgNM3V"
      },
      "execution_count": 14,
      "outputs": []
    },
    {
      "cell_type": "code",
      "source": [
        "def add2(*args):\n",
        "  print(args)"
      ],
      "metadata": {
        "id": "TfkzU3xqNe5h"
      },
      "execution_count": 15,
      "outputs": []
    },
    {
      "cell_type": "code",
      "source": [
        "add2(1,2,3)"
      ],
      "metadata": {
        "colab": {
          "base_uri": "https://localhost:8080/"
        },
        "id": "EXRlN-oZNjzg",
        "outputId": "96b0fc6f-c9a1-485d-aa21-a0151fd17fe3"
      },
      "execution_count": 16,
      "outputs": [
        {
          "output_type": "stream",
          "name": "stdout",
          "text": [
            "(1, 2, 3)\n"
          ]
        }
      ]
    },
    {
      "cell_type": "markdown",
      "source": [
        "*args = 튜플과 같은 데이터의 뭉치를 한번에 받는 것이다. \n",
        "\n",
        "데이터의 뭉치를 한번에 받는 것이다. \n",
        "\n",
        "ex (123)이라는 튜플을 그대로 받아 버리는 것이다, "
      ],
      "metadata": {
        "id": "g6ryusWrNu2u"
      }
    },
    {
      "cell_type": "code",
      "source": [
        "def add2(*args):\n",
        "  result = 0\n",
        "  for arg in args:\n",
        "    print(arg) \n",
        "    result += arg\n",
        "\n",
        "  return result"
      ],
      "metadata": {
        "id": "D9EIa3avNoHn"
      },
      "execution_count": 17,
      "outputs": []
    },
    {
      "cell_type": "markdown",
      "source": [
        "*arg\n",
        "매개 변수가 몇개가 들어오든 상관 없이 다 받겠다는 의미\n",
        "**-> 입력값의 개수에 상관 없이 함수를 만들기위해서 사용한다. **\n"
      ],
      "metadata": {
        "id": "o-s8OPGwPVrO"
      }
    },
    {
      "cell_type": "markdown",
      "source": [
        ""
      ],
      "metadata": {
        "id": "iIKQRTYBXG0K"
      }
    },
    {
      "cell_type": "code",
      "source": [
        "result = add2(1,2,3)\n",
        "result"
      ],
      "metadata": {
        "colab": {
          "base_uri": "https://localhost:8080/"
        },
        "id": "EburCKnDODFi",
        "outputId": "837e0243-629c-4b96-9b68-8b5d6dd826f1"
      },
      "execution_count": 18,
      "outputs": [
        {
          "output_type": "stream",
          "name": "stdout",
          "text": [
            "1\n",
            "2\n",
            "3\n"
          ]
        },
        {
          "output_type": "execute_result",
          "data": {
            "text/plain": [
              "6"
            ]
          },
          "metadata": {},
          "execution_count": 18
        }
      ]
    },
    {
      "cell_type": "markdown",
      "source": [
        "def add (3개 매개변수)\n",
        "\n",
        " return 함수 \n",
        "\n",
        " 함수가 매개 변수의 수대로 만들어야 하는 것을 하지 않기 위해서\n",
        " \n",
        " ex)매개 변수 자리게 *args (관습적으로 args(인수)라고 표현함) 형태로 작성하는 것이다. "
      ],
      "metadata": {
        "id": "qY0EiuUOPp6-"
      }
    },
    {
      "cell_type": "code",
      "source": [
        "함수를 여러개 만들걸 하나로 만들게 한다. "
      ],
      "metadata": {
        "colab": {
          "base_uri": "https://localhost:8080/",
          "height": 0
        },
        "id": "jloVkWtUOV26",
        "outputId": "b998cbfd-a181-4acd-fe6c-b2a2360f66f7"
      },
      "execution_count": 19,
      "outputs": [
        {
          "output_type": "error",
          "ename": "SyntaxError",
          "evalue": "ignored",
          "traceback": [
            "\u001b[0;36m  File \u001b[0;32m\"<ipython-input-19-f320b2c2d4ec>\"\u001b[0;36m, line \u001b[0;32m1\u001b[0m\n\u001b[0;31m    함수를 여러개 만들걸 하나로 만들게 한다.\u001b[0m\n\u001b[0m          ^\u001b[0m\n\u001b[0;31mSyntaxError\u001b[0m\u001b[0;31m:\u001b[0m invalid syntax\n"
          ]
        }
      ]
    }
  ]
}